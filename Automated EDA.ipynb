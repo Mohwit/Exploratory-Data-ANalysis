{
 "cells": [
  {
   "cell_type": "markdown",
   "id": "6cffa810-a8ee-4758-9b81-251c39de25b5",
   "metadata": {},
   "source": [
    "## Automated EDA"
   ]
  },
  {
   "cell_type": "markdown",
   "id": "0095bf6f-e66d-43a7-ac62-15512a5861aa",
   "metadata": {},
   "source": [
    "### importing the necessary packages"
   ]
  },
  {
   "cell_type": "code",
   "execution_count": 1,
   "id": "265b4a5c-2a8e-480e-8592-89aa14fc9b34",
   "metadata": {},
   "outputs": [],
   "source": [
    "import numpy as np\n",
    "import pandas as pd\n",
    "import matplotlib.pyplot as plt\n",
    "import seaborn as sns\n",
    "%matplotlib inline\n",
    "\n",
    "import warnings\n",
    "warnings.filterwarnings('ignore')"
   ]
  },
  {
   "cell_type": "markdown",
   "id": "3f3b83aa-610d-4253-956e-26ad1c40f83f",
   "metadata": {},
   "source": [
    "#### packages for automated Eda"
   ]
  },
  {
   "cell_type": "code",
   "execution_count": 2,
   "id": "1c47f092-aba6-40c0-8a14-738e23cd24bc",
   "metadata": {},
   "outputs": [
    {
     "name": "stdout",
     "output_type": "stream",
     "text": [
      "Requirement already satisfied: dtale in /home/mohwit/miniconda3/envs/ds/lib/python3.11/site-packages (2.11.0)\n",
      "Requirement already satisfied: dash-colorscales in /home/mohwit/miniconda3/envs/ds/lib/python3.11/site-packages (from dtale) (0.0.4)\n",
      "Requirement already satisfied: dash-daq in /home/mohwit/miniconda3/envs/ds/lib/python3.11/site-packages (from dtale) (0.5.0)\n",
      "Requirement already satisfied: Flask-Compress in /home/mohwit/miniconda3/envs/ds/lib/python3.11/site-packages (from dtale) (1.13)\n",
      "Requirement already satisfied: future>=0.14.0 in /home/mohwit/miniconda3/envs/ds/lib/python3.11/site-packages (from dtale) (0.18.3)\n",
      "Requirement already satisfied: missingno<=0.4.2 in /home/mohwit/miniconda3/envs/ds/lib/python3.11/site-packages (from dtale) (0.4.2)\n",
      "Requirement already satisfied: pandas in /home/mohwit/miniconda3/envs/ds/lib/python3.11/site-packages (from dtale) (1.5.3)\n",
      "Requirement already satisfied: squarify in /home/mohwit/miniconda3/envs/ds/lib/python3.11/site-packages (from dtale) (0.4.3)\n",
      "Requirement already satisfied: strsimpy in /home/mohwit/miniconda3/envs/ds/lib/python3.11/site-packages (from dtale) (0.2.1)\n",
      "Requirement already satisfied: six in /home/mohwit/miniconda3/envs/ds/lib/python3.11/site-packages (from dtale) (1.16.0)\n",
      "Requirement already satisfied: xlrd in /home/mohwit/miniconda3/envs/ds/lib/python3.11/site-packages (from dtale) (2.0.1)\n",
      "Requirement already satisfied: lz4 in /home/mohwit/miniconda3/envs/ds/lib/python3.11/site-packages (from dtale) (4.3.2)\n",
      "Requirement already satisfied: certifi in /home/mohwit/miniconda3/envs/ds/lib/python3.11/site-packages (from dtale) (2022.12.7)\n",
      "Requirement already satisfied: cycler in /home/mohwit/miniconda3/envs/ds/lib/python3.11/site-packages (from dtale) (0.11.0)\n",
      "Requirement already satisfied: dash-bootstrap-components in /home/mohwit/miniconda3/envs/ds/lib/python3.11/site-packages (from dtale) (1.3.0)\n",
      "Requirement already satisfied: flask-ngrok in /home/mohwit/miniconda3/envs/ds/lib/python3.11/site-packages (from dtale) (0.0.25)\n",
      "Requirement already satisfied: dash>=2.0.0 in /home/mohwit/miniconda3/envs/ds/lib/python3.11/site-packages (from dtale) (2.8.0)\n",
      "Requirement already satisfied: kaleido in /home/mohwit/miniconda3/envs/ds/lib/python3.11/site-packages (from dtale) (0.2.1)\n",
      "Requirement already satisfied: seaborn in /home/mohwit/miniconda3/envs/ds/lib/python3.11/site-packages (from dtale) (0.12.2)\n",
      "Requirement already satisfied: networkx in /home/mohwit/miniconda3/envs/ds/lib/python3.11/site-packages (from dtale) (3.0)\n",
      "Requirement already satisfied: scikit-learn in /home/mohwit/miniconda3/envs/ds/lib/python3.11/site-packages (from dtale) (1.1.3)\n",
      "Requirement already satisfied: statsmodels in /home/mohwit/miniconda3/envs/ds/lib/python3.11/site-packages (from dtale) (0.13.5)\n",
      "Requirement already satisfied: matplotlib in /home/mohwit/miniconda3/envs/ds/lib/python3.11/site-packages (from dtale) (3.6.2)\n",
      "Requirement already satisfied: numpy in /home/mohwit/miniconda3/envs/ds/lib/python3.11/site-packages (from dtale) (1.24.1)\n",
      "Requirement already satisfied: openpyxl in /home/mohwit/miniconda3/envs/ds/lib/python3.11/site-packages (from dtale) (3.0.10)\n",
      "Requirement already satisfied: xarray in /home/mohwit/miniconda3/envs/ds/lib/python3.11/site-packages (from dtale) (2023.1.0)\n",
      "Requirement already satisfied: et-xmlfile in /home/mohwit/miniconda3/envs/ds/lib/python3.11/site-packages (from dtale) (1.1.0)\n",
      "Requirement already satisfied: plotly>=5.0.0 in /home/mohwit/miniconda3/envs/ds/lib/python3.11/site-packages (from dtale) (5.13.0)\n",
      "Requirement already satisfied: requests in /home/mohwit/miniconda3/envs/ds/lib/python3.11/site-packages (from dtale) (2.28.1)\n",
      "Requirement already satisfied: Flask in /home/mohwit/miniconda3/envs/ds/lib/python3.11/site-packages (from dtale) (2.2.2)\n",
      "Requirement already satisfied: itsdangerous in /home/mohwit/miniconda3/envs/ds/lib/python3.11/site-packages (from dtale) (2.1.2)\n",
      "Requirement already satisfied: scipy==1.9.3 in /home/mohwit/miniconda3/envs/ds/lib/python3.11/site-packages (from dtale) (1.9.3)\n",
      "Requirement already satisfied: dash-html-components==2.0.0 in /home/mohwit/miniconda3/envs/ds/lib/python3.11/site-packages (from dash>=2.0.0->dtale) (2.0.0)\n",
      "Requirement already satisfied: dash-core-components==2.0.0 in /home/mohwit/miniconda3/envs/ds/lib/python3.11/site-packages (from dash>=2.0.0->dtale) (2.0.0)\n",
      "Requirement already satisfied: dash-table==5.0.0 in /home/mohwit/miniconda3/envs/ds/lib/python3.11/site-packages (from dash>=2.0.0->dtale) (5.0.0)\n",
      "Requirement already satisfied: Werkzeug>=2.2.2 in /home/mohwit/miniconda3/envs/ds/lib/python3.11/site-packages (from Flask->dtale) (2.2.2)\n",
      "Requirement already satisfied: Jinja2>=3.0 in /home/mohwit/miniconda3/envs/ds/lib/python3.11/site-packages (from Flask->dtale) (3.1.2)\n",
      "Requirement already satisfied: click>=8.0 in /home/mohwit/miniconda3/envs/ds/lib/python3.11/site-packages (from Flask->dtale) (8.1.3)\n",
      "Requirement already satisfied: tenacity>=6.2.0 in /home/mohwit/miniconda3/envs/ds/lib/python3.11/site-packages (from plotly>=5.0.0->dtale) (8.1.0)\n",
      "Requirement already satisfied: brotli in /home/mohwit/miniconda3/envs/ds/lib/python3.11/site-packages (from Flask-Compress->dtale) (1.0.9)\n",
      "Requirement already satisfied: contourpy>=1.0.1 in /home/mohwit/miniconda3/envs/ds/lib/python3.11/site-packages (from matplotlib->dtale) (1.0.6)\n",
      "Requirement already satisfied: fonttools>=4.22.0 in /home/mohwit/miniconda3/envs/ds/lib/python3.11/site-packages (from matplotlib->dtale) (4.38.0)\n",
      "Requirement already satisfied: kiwisolver>=1.0.1 in /home/mohwit/miniconda3/envs/ds/lib/python3.11/site-packages (from matplotlib->dtale) (1.4.4)\n",
      "Requirement already satisfied: packaging>=20.0 in /home/mohwit/miniconda3/envs/ds/lib/python3.11/site-packages (from matplotlib->dtale) (21.3)\n",
      "Requirement already satisfied: pillow>=6.2.0 in /home/mohwit/miniconda3/envs/ds/lib/python3.11/site-packages (from matplotlib->dtale) (9.3.0)\n",
      "Requirement already satisfied: pyparsing>=2.2.1 in /home/mohwit/miniconda3/envs/ds/lib/python3.11/site-packages (from matplotlib->dtale) (3.0.9)\n",
      "Requirement already satisfied: python-dateutil>=2.7 in /home/mohwit/miniconda3/envs/ds/lib/python3.11/site-packages (from matplotlib->dtale) (2.8.2)\n",
      "Requirement already satisfied: pytz>=2020.1 in /home/mohwit/miniconda3/envs/ds/lib/python3.11/site-packages (from pandas->dtale) (2022.7.1)\n",
      "Requirement already satisfied: charset-normalizer<3,>=2 in /home/mohwit/miniconda3/envs/ds/lib/python3.11/site-packages (from requests->dtale) (2.1.1)\n",
      "Requirement already satisfied: idna<4,>=2.5 in /home/mohwit/miniconda3/envs/ds/lib/python3.11/site-packages (from requests->dtale) (3.4)\n",
      "Requirement already satisfied: urllib3<1.27,>=1.21.1 in /home/mohwit/miniconda3/envs/ds/lib/python3.11/site-packages (from requests->dtale) (1.26.13)\n",
      "Requirement already satisfied: joblib>=1.0.0 in /home/mohwit/miniconda3/envs/ds/lib/python3.11/site-packages (from scikit-learn->dtale) (1.1.0)\n",
      "Requirement already satisfied: threadpoolctl>=2.0.0 in /home/mohwit/miniconda3/envs/ds/lib/python3.11/site-packages (from scikit-learn->dtale) (3.1.0)\n",
      "Requirement already satisfied: patsy>=0.5.2 in /home/mohwit/miniconda3/envs/ds/lib/python3.11/site-packages (from statsmodels->dtale) (0.5.3)\n",
      "Requirement already satisfied: MarkupSafe>=2.0 in /home/mohwit/miniconda3/envs/ds/lib/python3.11/site-packages (from Jinja2>=3.0->Flask->dtale) (2.1.1)\n"
     ]
    }
   ],
   "source": [
    "!pip install dtale"
   ]
  },
  {
   "cell_type": "code",
   "execution_count": 7,
   "id": "8dcabc26-bca5-4fde-94a0-1ad15a3f4d71",
   "metadata": {},
   "outputs": [
    {
     "name": "stdout",
     "output_type": "stream",
     "text": [
      "Collecting sweetviz\n",
      "  Downloading sweetviz-2.1.4-py3-none-any.whl (15.1 MB)\n",
      "\u001b[2K     \u001b[38;2;114;156;31m━━━━━━━━━━━━━━━━━━━━━━━━━━━━━━━━━━━━━━━━\u001b[0m \u001b[32m15.1/15.1 MB\u001b[0m \u001b[31m4.9 MB/s\u001b[0m eta \u001b[36m0:00:00\u001b[0mm eta \u001b[36m0:00:01\u001b[0m[36m0:00:01\u001b[0m\n",
      "\u001b[?25hRequirement already satisfied: pandas!=1.0.0,!=1.0.1,!=1.0.2,>=0.25.3 in /home/mohwit/miniconda3/envs/ds/lib/python3.11/site-packages (from sweetviz) (1.5.3)\n",
      "Requirement already satisfied: numpy>=1.16.0 in /home/mohwit/miniconda3/envs/ds/lib/python3.11/site-packages (from sweetviz) (1.24.1)\n",
      "Requirement already satisfied: matplotlib>=3.1.3 in /home/mohwit/miniconda3/envs/ds/lib/python3.11/site-packages (from sweetviz) (3.6.2)\n",
      "Requirement already satisfied: tqdm>=4.43.0 in /home/mohwit/miniconda3/envs/ds/lib/python3.11/site-packages (from sweetviz) (4.64.1)\n",
      "Requirement already satisfied: scipy>=1.3.2 in /home/mohwit/miniconda3/envs/ds/lib/python3.11/site-packages (from sweetviz) (1.9.3)\n",
      "Requirement already satisfied: jinja2>=2.11.1 in /home/mohwit/miniconda3/envs/ds/lib/python3.11/site-packages (from sweetviz) (3.1.2)\n",
      "Requirement already satisfied: importlib-resources>=1.2.0 in /home/mohwit/miniconda3/envs/ds/lib/python3.11/site-packages (from sweetviz) (5.10.0)\n",
      "Requirement already satisfied: MarkupSafe>=2.0 in /home/mohwit/miniconda3/envs/ds/lib/python3.11/site-packages (from jinja2>=2.11.1->sweetviz) (2.1.1)\n",
      "Requirement already satisfied: contourpy>=1.0.1 in /home/mohwit/miniconda3/envs/ds/lib/python3.11/site-packages (from matplotlib>=3.1.3->sweetviz) (1.0.6)\n",
      "Requirement already satisfied: cycler>=0.10 in /home/mohwit/miniconda3/envs/ds/lib/python3.11/site-packages (from matplotlib>=3.1.3->sweetviz) (0.11.0)\n",
      "Requirement already satisfied: fonttools>=4.22.0 in /home/mohwit/miniconda3/envs/ds/lib/python3.11/site-packages (from matplotlib>=3.1.3->sweetviz) (4.38.0)\n",
      "Requirement already satisfied: kiwisolver>=1.0.1 in /home/mohwit/miniconda3/envs/ds/lib/python3.11/site-packages (from matplotlib>=3.1.3->sweetviz) (1.4.4)\n",
      "Requirement already satisfied: packaging>=20.0 in /home/mohwit/miniconda3/envs/ds/lib/python3.11/site-packages (from matplotlib>=3.1.3->sweetviz) (21.3)\n",
      "Requirement already satisfied: pillow>=6.2.0 in /home/mohwit/miniconda3/envs/ds/lib/python3.11/site-packages (from matplotlib>=3.1.3->sweetviz) (9.3.0)\n",
      "Requirement already satisfied: pyparsing>=2.2.1 in /home/mohwit/miniconda3/envs/ds/lib/python3.11/site-packages (from matplotlib>=3.1.3->sweetviz) (3.0.9)\n",
      "Requirement already satisfied: python-dateutil>=2.7 in /home/mohwit/miniconda3/envs/ds/lib/python3.11/site-packages (from matplotlib>=3.1.3->sweetviz) (2.8.2)\n",
      "Requirement already satisfied: pytz>=2020.1 in /home/mohwit/miniconda3/envs/ds/lib/python3.11/site-packages (from pandas!=1.0.0,!=1.0.1,!=1.0.2,>=0.25.3->sweetviz) (2022.7.1)\n",
      "Requirement already satisfied: six>=1.5 in /home/mohwit/miniconda3/envs/ds/lib/python3.11/site-packages (from python-dateutil>=2.7->matplotlib>=3.1.3->sweetviz) (1.16.0)\n",
      "Installing collected packages: sweetviz\n",
      "Successfully installed sweetviz-2.1.4\n"
     ]
    }
   ],
   "source": [
    "!pip install sweetviz"
   ]
  },
  {
   "cell_type": "markdown",
   "id": "1c1e9dff-d6a2-4356-ba61-78953a30b3f5",
   "metadata": {},
   "source": [
    "### Loading the dataset"
   ]
  },
  {
   "cell_type": "code",
   "execution_count": 3,
   "id": "089ab79e-f803-41fa-95dd-deb34e803e98",
   "metadata": {},
   "outputs": [],
   "source": [
    "df = sns.load_dataset('titanic')"
   ]
  },
  {
   "cell_type": "code",
   "execution_count": 4,
   "id": "034c091f-c47d-4b3b-9b17-9193948b8259",
   "metadata": {},
   "outputs": [
    {
     "data": {
      "text/html": [
       "<div>\n",
       "<style scoped>\n",
       "    .dataframe tbody tr th:only-of-type {\n",
       "        vertical-align: middle;\n",
       "    }\n",
       "\n",
       "    .dataframe tbody tr th {\n",
       "        vertical-align: top;\n",
       "    }\n",
       "\n",
       "    .dataframe thead th {\n",
       "        text-align: right;\n",
       "    }\n",
       "</style>\n",
       "<table border=\"1\" class=\"dataframe\">\n",
       "  <thead>\n",
       "    <tr style=\"text-align: right;\">\n",
       "      <th></th>\n",
       "      <th>survived</th>\n",
       "      <th>pclass</th>\n",
       "      <th>sex</th>\n",
       "      <th>age</th>\n",
       "      <th>sibsp</th>\n",
       "      <th>parch</th>\n",
       "      <th>fare</th>\n",
       "      <th>embarked</th>\n",
       "      <th>class</th>\n",
       "      <th>who</th>\n",
       "      <th>adult_male</th>\n",
       "      <th>deck</th>\n",
       "      <th>embark_town</th>\n",
       "      <th>alive</th>\n",
       "      <th>alone</th>\n",
       "    </tr>\n",
       "  </thead>\n",
       "  <tbody>\n",
       "    <tr>\n",
       "      <th>0</th>\n",
       "      <td>0</td>\n",
       "      <td>3</td>\n",
       "      <td>male</td>\n",
       "      <td>22.0</td>\n",
       "      <td>1</td>\n",
       "      <td>0</td>\n",
       "      <td>7.2500</td>\n",
       "      <td>S</td>\n",
       "      <td>Third</td>\n",
       "      <td>man</td>\n",
       "      <td>True</td>\n",
       "      <td>NaN</td>\n",
       "      <td>Southampton</td>\n",
       "      <td>no</td>\n",
       "      <td>False</td>\n",
       "    </tr>\n",
       "    <tr>\n",
       "      <th>1</th>\n",
       "      <td>1</td>\n",
       "      <td>1</td>\n",
       "      <td>female</td>\n",
       "      <td>38.0</td>\n",
       "      <td>1</td>\n",
       "      <td>0</td>\n",
       "      <td>71.2833</td>\n",
       "      <td>C</td>\n",
       "      <td>First</td>\n",
       "      <td>woman</td>\n",
       "      <td>False</td>\n",
       "      <td>C</td>\n",
       "      <td>Cherbourg</td>\n",
       "      <td>yes</td>\n",
       "      <td>False</td>\n",
       "    </tr>\n",
       "    <tr>\n",
       "      <th>2</th>\n",
       "      <td>1</td>\n",
       "      <td>3</td>\n",
       "      <td>female</td>\n",
       "      <td>26.0</td>\n",
       "      <td>0</td>\n",
       "      <td>0</td>\n",
       "      <td>7.9250</td>\n",
       "      <td>S</td>\n",
       "      <td>Third</td>\n",
       "      <td>woman</td>\n",
       "      <td>False</td>\n",
       "      <td>NaN</td>\n",
       "      <td>Southampton</td>\n",
       "      <td>yes</td>\n",
       "      <td>True</td>\n",
       "    </tr>\n",
       "    <tr>\n",
       "      <th>3</th>\n",
       "      <td>1</td>\n",
       "      <td>1</td>\n",
       "      <td>female</td>\n",
       "      <td>35.0</td>\n",
       "      <td>1</td>\n",
       "      <td>0</td>\n",
       "      <td>53.1000</td>\n",
       "      <td>S</td>\n",
       "      <td>First</td>\n",
       "      <td>woman</td>\n",
       "      <td>False</td>\n",
       "      <td>C</td>\n",
       "      <td>Southampton</td>\n",
       "      <td>yes</td>\n",
       "      <td>False</td>\n",
       "    </tr>\n",
       "    <tr>\n",
       "      <th>4</th>\n",
       "      <td>0</td>\n",
       "      <td>3</td>\n",
       "      <td>male</td>\n",
       "      <td>35.0</td>\n",
       "      <td>0</td>\n",
       "      <td>0</td>\n",
       "      <td>8.0500</td>\n",
       "      <td>S</td>\n",
       "      <td>Third</td>\n",
       "      <td>man</td>\n",
       "      <td>True</td>\n",
       "      <td>NaN</td>\n",
       "      <td>Southampton</td>\n",
       "      <td>no</td>\n",
       "      <td>True</td>\n",
       "    </tr>\n",
       "  </tbody>\n",
       "</table>\n",
       "</div>"
      ],
      "text/plain": [
       "   survived  pclass     sex   age  sibsp  parch     fare embarked  class  \\\n",
       "0         0       3    male  22.0      1      0   7.2500        S  Third   \n",
       "1         1       1  female  38.0      1      0  71.2833        C  First   \n",
       "2         1       3  female  26.0      0      0   7.9250        S  Third   \n",
       "3         1       1  female  35.0      1      0  53.1000        S  First   \n",
       "4         0       3    male  35.0      0      0   8.0500        S  Third   \n",
       "\n",
       "     who  adult_male deck  embark_town alive  alone  \n",
       "0    man        True  NaN  Southampton    no  False  \n",
       "1  woman       False    C    Cherbourg   yes  False  \n",
       "2  woman       False  NaN  Southampton   yes   True  \n",
       "3  woman       False    C  Southampton   yes  False  \n",
       "4    man        True  NaN  Southampton    no   True  "
      ]
     },
     "execution_count": 4,
     "metadata": {},
     "output_type": "execute_result"
    }
   ],
   "source": [
    "df.head()"
   ]
  },
  {
   "cell_type": "code",
   "execution_count": 5,
   "id": "16dc349d-61b7-432e-b136-afc9ee897b00",
   "metadata": {},
   "outputs": [],
   "source": [
    "import dtale"
   ]
  },
  {
   "cell_type": "code",
   "execution_count": 6,
   "id": "dbcf052f-6886-465c-b130-227ee4f61696",
   "metadata": {},
   "outputs": [
    {
     "data": {
      "text/html": [
       "\n",
       "        <iframe\n",
       "            width=\"100%\"\n",
       "            height=\"475\"\n",
       "            src=\"http://Nerdbots:40000/dtale/iframe/1\"\n",
       "            frameborder=\"0\"\n",
       "            allowfullscreen\n",
       "            \n",
       "        ></iframe>\n",
       "        "
      ],
      "text/plain": [
       "<IPython.lib.display.IFrame at 0x7f2915fd3f50>"
      ]
     },
     "metadata": {},
     "output_type": "display_data"
    },
    {
     "data": {
      "text/plain": []
     },
     "execution_count": 6,
     "metadata": {},
     "output_type": "execute_result"
    }
   ],
   "source": [
    "dtale.show(df)"
   ]
  },
  {
   "cell_type": "code",
   "execution_count": 11,
   "id": "b9922b1f-1753-428c-9929-f3e0084ddab1",
   "metadata": {},
   "outputs": [],
   "source": [
    "df = sns.load_dataset('tips')"
   ]
  },
  {
   "cell_type": "code",
   "execution_count": null,
   "id": "b0e047e2-50a1-401e-a608-9a3b4b63b6c5",
   "metadata": {},
   "outputs": [],
   "source": [
    "import sweetviz as sv\n",
    "report = sv.analyze(df)\n",
    "report.show_html('newreport.html')"
   ]
  },
  {
   "cell_type": "code",
   "execution_count": null,
   "id": "e0c09aac-1e4e-4998-af22-c6def33f81bb",
   "metadata": {},
   "outputs": [],
   "source": []
  }
 ],
 "metadata": {
  "kernelspec": {
   "display_name": "Python 3 (ipykernel)",
   "language": "python",
   "name": "python3"
  },
  "language_info": {
   "codemirror_mode": {
    "name": "ipython",
    "version": 3
   },
   "file_extension": ".py",
   "mimetype": "text/x-python",
   "name": "python",
   "nbconvert_exporter": "python",
   "pygments_lexer": "ipython3",
   "version": "3.11.0"
  }
 },
 "nbformat": 4,
 "nbformat_minor": 5
}
